{
 "cells": [
  {
   "cell_type": "code",
   "execution_count": 1,
   "id": "43a2b475",
   "metadata": {},
   "outputs": [],
   "source": [
    "import torch\n",
    "import torch.nn as nn\n",
    "import torch.optim as optim\n",
    "from torch.utils.data import DataLoader, random_split\n",
    "import torchvision\n",
    "from torchvision import transforms, models\n",
    "from torchvision.datasets import EMNIST\n",
    "import numpy as np\n",
    "import matplotlib.pyplot as plt\n",
    "from sklearn.metrics import accuracy_score, precision_score, recall_score, f1_score, confusion_matrix\n",
    "import time\n",
    "import random"
   ]
  },
  {
   "cell_type": "code",
   "execution_count": 2,
   "id": "89ff3aed",
   "metadata": {},
   "outputs": [],
   "source": [
    "def set_seed(seed=42):\n",
    "    random.seed(seed)\n",
    "    np.random.seed(seed)\n",
    "    torch.manual_seed(seed)\n",
    "    if torch.cuda.is_available():\n",
    "        torch.cuda.manual_seed(seed)\n",
    "        torch.cuda.manual_seed_all(seed)\n",
    "    torch.backends.cudnn.deterministic = True\n",
    "    torch.backends.cudnn.benchmark = False\n",
    "\n",
    "set_seed()"
   ]
  },
  {
   "cell_type": "code",
   "execution_count": 3,
   "id": "155eaac7",
   "metadata": {},
   "outputs": [
    {
     "name": "stdout",
     "output_type": "stream",
     "text": [
      "Device: cuda\n",
      "GPU: NVIDIA GeForce RTX 5070 Laptop GPU\n"
     ]
    }
   ],
   "source": [
    "device = torch.device('cuda' if torch.cuda.is_available() else 'cpu')\n",
    "print(f\"Device: {device}\")\n",
    "if torch.cuda.is_available():\n",
    "    print(f\"GPU: {torch.cuda.get_device_name(0)}\")"
   ]
  },
  {
   "cell_type": "code",
   "execution_count": 4,
   "id": "264f91e4",
   "metadata": {},
   "outputs": [],
   "source": [
    "# Data processing\n",
    "\n",
    "mean = [0.485, 0.456, 0.406]\n",
    "std = [0.229, 0.224, 0.225]\n",
    "\n",
    "transform = transforms.Compose([\n",
    "    transforms.RandomRotation((-90, -90)),  # Rotate -90 degrees\n",
    "    transforms.RandomHorizontalFlip(p=1.0),  # Flip horizontally\n",
    "    transforms.Resize((224, 224)),  # Resize to 224 x 224\n",
    "    transforms.Grayscale(num_output_channels=3),  # Convert to 3 channels\n",
    "    transforms.ToTensor(),\n",
    "    transforms.Normalize(mean=mean, std=std)\n",
    "])"
   ]
  },
  {
   "cell_type": "code",
   "execution_count": 5,
   "id": "6205da31",
   "metadata": {},
   "outputs": [
    {
     "name": "stdout",
     "output_type": "stream",
     "text": [
      "Image size: torch.Size([3, 224, 224])\n",
      "Dataset length: 697932\n",
      "Training dataset size: 628138\n",
      "Validation dataset size: 69794\n",
      "Test dataset size: 116323\n"
     ]
    }
   ],
   "source": [
    "# Load train dataset\n",
    "full_train_dataset = EMNIST(\n",
    "    root='./data', \n",
    "    split='byclass', \n",
    "    train=True, \n",
    "    download=True, \n",
    "    transform=transform\n",
    ")\n",
    "\n",
    "image, label = full_train_dataset[0]\n",
    "print(f\"Image size: {image.shape}\")\n",
    "print(f\"Dataset length: {len(full_train_dataset)}\")\n",
    "\n",
    "# Split into train and validation\n",
    "train_size = int(0.9 * len(full_train_dataset))\n",
    "val_size = len(full_train_dataset) - train_size\n",
    "\n",
    "train_dataset, val_dataset = random_split(\n",
    "    full_train_dataset,\n",
    "    [train_size, val_size]\n",
    ")\n",
    "print(f\"Training dataset size: {len(train_dataset)}\")\n",
    "print(f\"Validation dataset size: {len(val_dataset)}\")\n",
    "\n",
    "# Load test dataset\n",
    "test_dataset = EMNIST(\n",
    "    root='./data', \n",
    "    split='byclass', \n",
    "    train=False, \n",
    "    download=True, \n",
    "    transform=transform\n",
    ")\n",
    "print(f\"Test dataset size: {len(test_dataset)}\")"
   ]
  },
  {
   "cell_type": "code",
   "execution_count": 6,
   "id": "95912c63",
   "metadata": {},
   "outputs": [],
   "source": [
    "# Data loaders\n",
    "batch_size = 256  # Increased from 64 for better GPU utilization\n",
    "\n",
    "train_loader = DataLoader(\n",
    "    train_dataset,\n",
    "    batch_size=batch_size,\n",
    "    shuffle=True,\n",
    "    num_workers=4,  # Increased from 2\n",
    "    pin_memory=True  # Faster data transfer to GPU\n",
    ")\n",
    "\n",
    "val_loader = DataLoader(\n",
    "    val_dataset,\n",
    "    batch_size=batch_size,\n",
    "    shuffle=False,  # No need to shuffle validation\n",
    "    num_workers=4,\n",
    "    pin_memory=True\n",
    ")\n",
    "\n",
    "test_loader = DataLoader(\n",
    "    test_dataset,\n",
    "    batch_size=batch_size,\n",
    "    shuffle=False,  # No need to shuffle test\n",
    "    num_workers=4,\n",
    "    pin_memory=True\n",
    ")"
   ]
  },
  {
   "cell_type": "code",
   "execution_count": 7,
   "id": "63e9ac76",
   "metadata": {},
   "outputs": [
    {
     "name": "stderr",
     "output_type": "stream",
     "text": [
      "/home/filthys/miniforge3/envs/ml_env/lib/python3.10/site-packages/torchvision/models/_utils.py:208: UserWarning: The parameter 'pretrained' is deprecated since 0.13 and may be removed in the future, please use 'weights' instead.\n",
      "  warnings.warn(\n",
      "/home/filthys/miniforge3/envs/ml_env/lib/python3.10/site-packages/torchvision/models/_utils.py:223: UserWarning: Arguments other than a weight enum or `None` for 'weights' are deprecated since 0.13 and may be removed in the future. The current behavior is equivalent to passing `weights=ResNet18_Weights.IMAGENET1K_V1`. You can also use `weights=ResNet18_Weights.DEFAULT` to get the most up-to-date weights.\n",
      "  warnings.warn(msg)\n"
     ]
    }
   ],
   "source": [
    "# Load ResNet-18 and modify the output layer\n",
    "\n",
    "def get_resnet18_model(num_classes=62):\n",
    "    model = models.resnet18(pretrained=True)\n",
    "\n",
    "    # Replace final FC layer\n",
    "    num_features = model.fc.in_features\n",
    "    model.fc = nn.Linear(num_features, num_classes)\n",
    "\n",
    "    return model\n",
    "\n",
    "model = get_resnet18_model(num_classes=62)\n",
    "model = model.to(device)"
   ]
  },
  {
   "cell_type": "code",
   "execution_count": 8,
   "id": "c56217fb",
   "metadata": {},
   "outputs": [],
   "source": [
    "def count_trainable_params(model):\n",
    "    return sum(p.numel() for p in model.parameters() if p.requires_grad)\n",
    "\n",
    "def count_trainable_params_millions(model):\n",
    "    return count_trainable_params(model) / 1e6"
   ]
  },
  {
   "cell_type": "code",
   "execution_count": 9,
   "id": "3b8ba4ff",
   "metadata": {},
   "outputs": [],
   "source": [
    "def freeze_backbone(model):\n",
    "    \"\"\"Freeze all layers except final FC layer\"\"\"\n",
    "    for name, param in model.named_parameters():\n",
    "        if 'fc' not in name:\n",
    "            param.requires_grad = False\n",
    "    print(f\"Frozen backbone. Trainable params: {count_trainable_params_millions(model):.2f}M\")\n",
    "\n",
    "def unfreeze_last_block(model):\n",
    "    \"\"\"Unfreeze layer4 and FC layer\"\"\"\n",
    "    for name, param in model.named_parameters():\n",
    "        if 'layer4' in name or 'fc' in name:\n",
    "            param.requires_grad = True\n",
    "    print(f\"Unfroze layer4. Trainable params: {count_trainable_params_millions(model):.2f}M\")\n",
    "\n",
    "def unfreeze_all(model):\n",
    "    \"\"\"Unfreeze all layers\"\"\"\n",
    "    for param in model.parameters():\n",
    "        param.requires_grad = True\n",
    "    print(f\"Unfroze all params. Trainable params: {count_trainable_params_millions(model):.2f}M\")"
   ]
  },
  {
   "cell_type": "code",
   "execution_count": 10,
   "id": "19490c28",
   "metadata": {},
   "outputs": [],
   "source": [
    "def train_one_epoch(model, train_loader, criterion, optimizer, device, use_amp=False):\n",
    "    model.train()\n",
    "    running_loss = 0.0\n",
    "    correct = 0\n",
    "    total = 0\n",
    "    \n",
    "    # Create GradScaler for AMP if enabled\n",
    "    scaler = torch.cuda.amp.GradScaler() if use_amp else None\n",
    "\n",
    "    for inputs, labels in train_loader:\n",
    "        inputs, labels = inputs.to(device), labels.to(device)\n",
    "\n",
    "        optimizer.zero_grad()\n",
    "        \n",
    "        if use_amp:\n",
    "            # Use autocast for mixed precision\n",
    "            with torch.cuda.amp.autocast():\n",
    "                outputs = model(inputs)\n",
    "                loss = criterion(outputs, labels)\n",
    "            \n",
    "            # Scale loss and backprop\n",
    "            scaler.scale(loss).backward()\n",
    "            scaler.step(optimizer)\n",
    "            scaler.update()\n",
    "        else:\n",
    "            # Normal training without AMP\n",
    "            outputs = model(inputs)\n",
    "            loss = criterion(outputs, labels)\n",
    "            loss.backward()\n",
    "            optimizer.step()\n",
    "\n",
    "        running_loss += loss.item() * inputs.size(0)\n",
    "        _, predicted = outputs.max(1)\n",
    "        total += labels.size(0)\n",
    "        correct += predicted.eq(labels).sum().item()\n",
    "\n",
    "    epoch_loss = running_loss / total\n",
    "    epoch_acc = 100.0 * correct / total\n",
    "    return epoch_loss, epoch_acc"
   ]
  },
  {
   "cell_type": "code",
   "execution_count": 11,
   "id": "1c779d06",
   "metadata": {},
   "outputs": [],
   "source": [
    "def validate(model, val_loader, criterion, device):\n",
    "    model.eval()\n",
    "    running_loss = 0.0\n",
    "    correct = 0\n",
    "    total = 0\n",
    "\n",
    "    with torch.no_grad():\n",
    "        for inputs, labels in val_loader:\n",
    "            inputs, labels = inputs.to(device), labels.to(device)\n",
    "            outputs = model(inputs)\n",
    "            loss = criterion(outputs, labels)\n",
    "\n",
    "            running_loss += loss.item() * inputs.size(0)\n",
    "            _, predicted = outputs.max(1)\n",
    "            total += labels.size(0)\n",
    "            correct += predicted.eq(labels).sum().item()\n",
    "\n",
    "        epoch_loss = running_loss / total\n",
    "        epoch_acc = 100.0 * correct / total\n",
    "        return epoch_loss, epoch_acc"
   ]
  },
  {
   "cell_type": "code",
   "execution_count": 12,
   "id": "f8add022",
   "metadata": {},
   "outputs": [],
   "source": [
    "def evaluate_full_metrics(model, test_loader, device):\n",
    "    model.eval()\n",
    "    all_preds = []\n",
    "    all_labels = []\n",
    "\n",
    "    with torch.no_grad():\n",
    "        for inputs, labels in test_loader:\n",
    "            inputs = inputs.to(device)\n",
    "            outputs = model(inputs)\n",
    "            _, predicted = outputs.max(1)\n",
    "\n",
    "            all_preds.extend(predicted.cpu().numpy())\n",
    "            all_labels.extend(labels.numpy())\n",
    "\n",
    "        accuracy = accuracy_score(all_labels, all_preds)\n",
    "        precision = precision_score(all_labels, all_preds, average='macro', zero_division=0)\n",
    "        recall = recall_score(all_labels, all_preds, average='macro', zero_division=0)\n",
    "        f1 = f1_score(all_labels, all_preds, average='macro', zero_division=0)\n",
    "        conf_matrix = confusion_matrix(all_labels, all_preds)\n",
    "\n",
    "        return {\n",
    "            'accuracy': accuracy,\n",
    "            'precision': precision,\n",
    "            'recall': recall,\n",
    "            'f1': f1,\n",
    "            'confusion_matrix': conf_matrix,\n",
    "            'predictions': all_preds,\n",
    "            'labels': all_labels\n",
    "        }"
   ]
  },
  {
   "cell_type": "code",
   "execution_count": 13,
   "id": "835c2e39",
   "metadata": {},
   "outputs": [],
   "source": [
    "def train_regime(\n",
    "        model,\n",
    "        train_loader,\n",
    "        val_loader,\n",
    "        criterion,\n",
    "        optimizer,\n",
    "        scheduler,\n",
    "        num_epochs,\n",
    "        device,\n",
    "        regime_name=\"\",\n",
    "        use_amp=False\n",
    "):\n",
    "    print(f\"\\n{'='*70}\")\n",
    "    print(f\"Training Regime: {regime_name}\")\n",
    "    if use_amp:\n",
    "        print(f\"Mixed Precision (AMP): Enabled\")\n",
    "    print(f\"{'='*70}\")\n",
    "\n",
    "    history = {\n",
    "        'train_loss': [],\n",
    "        'train_acc': [],\n",
    "        'val_loss': [],\n",
    "        'val_acc': []\n",
    "    }\n",
    "\n",
    "    best_val_acc = 0.0\n",
    "    start_time = time.time()\n",
    "\n",
    "    for epoch in range(num_epochs):\n",
    "        train_loss, train_acc = train_one_epoch(\n",
    "            model,\n",
    "            train_loader,\n",
    "            criterion,\n",
    "            optimizer,\n",
    "            device,\n",
    "            use_amp=use_amp\n",
    "        )\n",
    "        val_loss, val_acc = validate(\n",
    "            model,\n",
    "            val_loader,\n",
    "            criterion,\n",
    "            device\n",
    "        )\n",
    "\n",
    "        history['train_loss'].append(train_loss)\n",
    "        history['train_acc'].append(train_acc)\n",
    "        history['val_loss'].append(val_loss)\n",
    "        history['val_acc'].append(val_acc)\n",
    "\n",
    "        if scheduler:\n",
    "            scheduler.step()\n",
    "\n",
    "        print(f\"Epoch [{epoch+1}/{num_epochs}] \"\n",
    "              f\"Train Loss: {train_loss:.4f}, Train Acc: {train_acc:.2f}% | \"\n",
    "              f\"Val Loss: {val_loss:.4f}, Val Acc: {val_acc:.2f}%\")\n",
    "        \n",
    "        if val_acc > best_val_acc:\n",
    "            best_val_acc = val_acc\n",
    "            torch.save(model.state_dict(), f'{regime_name}_best_model.pth')\n",
    "\n",
    "    training_time = time.time() - start_time\n",
    "    print(f\"\\nTraining completed in {training_time/60:.2f} minutes\")\n",
    "    print(f\"Best validation accuracy: {best_val_acc:.2f}%\")\n",
    "\n",
    "    return history, training_time"
   ]
  },
  {
   "cell_type": "code",
   "execution_count": 14,
   "id": "b0ec62fb",
   "metadata": {},
   "outputs": [
    {
     "name": "stdout",
     "output_type": "stream",
     "text": [
      "\n",
      "======================================================================\n",
      "REGIME 1: LINEAR PROBE\n",
      "======================================================================\n",
      "Frozen backbone. Trainable params: 0.03M\n",
      "\n",
      "======================================================================\n",
      "Training Regime: linear_probe\n",
      "Mixed Precision (AMP): Enabled\n",
      "======================================================================\n"
     ]
    },
    {
     "name": "stderr",
     "output_type": "stream",
     "text": [
      "/tmp/ipykernel_46379/66939090.py:8: FutureWarning: `torch.cuda.amp.GradScaler(args...)` is deprecated. Please use `torch.amp.GradScaler('cuda', args...)` instead.\n",
      "  scaler = torch.cuda.amp.GradScaler() if use_amp else None\n",
      "/tmp/ipykernel_46379/66939090.py:17: FutureWarning: `torch.cuda.amp.autocast(args...)` is deprecated. Please use `torch.amp.autocast('cuda', args...)` instead.\n",
      "  with torch.cuda.amp.autocast():\n"
     ]
    },
    {
     "name": "stdout",
     "output_type": "stream",
     "text": [
      "Epoch [1/10] Train Loss: 0.9050, Train Acc: 74.89% | Val Loss: 0.7084, Val Acc: 78.54%\n",
      "Epoch [2/10] Train Loss: 0.6745, Train Acc: 79.31% | Val Loss: 0.6590, Val Acc: 79.61%\n",
      "Epoch [3/10] Train Loss: 0.6394, Train Acc: 80.05% | Val Loss: 0.6484, Val Acc: 79.71%\n",
      "Epoch [4/10] Train Loss: 0.6235, Train Acc: 80.44% | Val Loss: 0.6345, Val Acc: 79.90%\n",
      "Epoch [5/10] Train Loss: 0.6134, Train Acc: 80.69% | Val Loss: 0.6178, Val Acc: 80.41%\n",
      "Epoch [6/10] Train Loss: 0.5939, Train Acc: 81.33% | Val Loss: 0.6086, Val Acc: 80.89%\n",
      "Epoch [7/10] Train Loss: 0.5929, Train Acc: 81.41% | Val Loss: 0.6075, Val Acc: 80.91%\n",
      "Epoch [8/10] Train Loss: 0.5922, Train Acc: 81.43% | Val Loss: 0.6060, Val Acc: 80.93%\n",
      "Epoch [9/10] Train Loss: 0.5916, Train Acc: 81.44% | Val Loss: 0.6063, Val Acc: 80.91%\n",
      "Epoch [10/10] Train Loss: 0.5910, Train Acc: 81.47% | Val Loss: 0.6052, Val Acc: 80.89%\n",
      "\n",
      "Training completed in 76.47 minutes\n",
      "Best validation accuracy: 80.93%\n"
     ]
    }
   ],
   "source": [
    "# Training Regime 1: Linear Probe\n",
    "print(f\"\\n{'='*70}\")\n",
    "print(\"REGIME 1: LINEAR PROBE\")\n",
    "print(f\"{'='*70}\")\n",
    "\n",
    "model = get_resnet18_model().to(device)\n",
    "freeze_backbone(model)\n",
    "\n",
    "criterion = nn.CrossEntropyLoss()\n",
    "optimizer = optim.SGD(\n",
    "    model.parameters(),\n",
    "    lr=0.01,\n",
    "    momentum=0.9,\n",
    "    weight_decay=5e-4\n",
    ")\n",
    "scheduler = optim.lr_scheduler.StepLR(\n",
    "    optimizer, \n",
    "    step_size=5, \n",
    "    gamma=0.1\n",
    ")\n",
    "\n",
    "trainable_params_regime1 = count_trainable_params_millions(model)\n",
    "\n",
    "history_regime1, time_regime1 = train_regime(\n",
    "    model,\n",
    "    train_loader,\n",
    "    val_loader,\n",
    "    criterion,\n",
    "    optimizer,\n",
    "    scheduler,\n",
    "    num_epochs=10,\n",
    "    device=device,\n",
    "    regime_name=\"linear_probe\",\n",
    "    use_amp=torch.cuda.is_available()  # Enable AMP if CUDA available\n",
    ")"
   ]
  },
  {
   "cell_type": "code",
   "execution_count": 15,
   "id": "4a6f309c",
   "metadata": {},
   "outputs": [
    {
     "name": "stdout",
     "output_type": "stream",
     "text": [
      "\n",
      "======================================================================\n",
      "REGIME 2: PARTIAL UNFREEZE (LAYER4 + FC)\n",
      "======================================================================\n",
      "Unfroze layer4. Trainable params: 8.43M\n",
      "\n",
      "======================================================================\n",
      "Training Regime: partial_unfreeze\n",
      "Mixed Precision (AMP): Enabled\n",
      "======================================================================\n"
     ]
    },
    {
     "name": "stderr",
     "output_type": "stream",
     "text": [
      "/tmp/ipykernel_46379/66939090.py:8: FutureWarning: `torch.cuda.amp.GradScaler(args...)` is deprecated. Please use `torch.amp.GradScaler('cuda', args...)` instead.\n",
      "  scaler = torch.cuda.amp.GradScaler() if use_amp else None\n",
      "/tmp/ipykernel_46379/66939090.py:17: FutureWarning: `torch.cuda.amp.autocast(args...)` is deprecated. Please use `torch.amp.autocast('cuda', args...)` instead.\n",
      "  with torch.cuda.amp.autocast():\n"
     ]
    },
    {
     "name": "stdout",
     "output_type": "stream",
     "text": [
      "Epoch [1/15] Train Loss: 0.4272, Train Acc: 85.15% | Val Loss: 0.3950, Val Acc: 85.89%\n",
      "Epoch [2/15] Train Loss: 0.3645, Train Acc: 86.79% | Val Loss: 0.3768, Val Acc: 86.42%\n",
      "Epoch [3/15] Train Loss: 0.3417, Train Acc: 87.43% | Val Loss: 0.3664, Val Acc: 86.61%\n",
      "Epoch [4/15] Train Loss: 0.3262, Train Acc: 87.89% | Val Loss: 0.3598, Val Acc: 86.84%\n",
      "Epoch [5/15] Train Loss: 0.3142, Train Acc: 88.27% | Val Loss: 0.3563, Val Acc: 86.95%\n",
      "Epoch [6/15] Train Loss: 0.3044, Train Acc: 88.58% | Val Loss: 0.3544, Val Acc: 86.92%\n",
      "Epoch [7/15] Train Loss: 0.2959, Train Acc: 88.89% | Val Loss: 0.3534, Val Acc: 87.06%\n",
      "Epoch [8/15] Train Loss: 0.2888, Train Acc: 89.12% | Val Loss: 0.3532, Val Acc: 87.05%\n",
      "Epoch [9/15] Train Loss: 0.2827, Train Acc: 89.34% | Val Loss: 0.3516, Val Acc: 87.07%\n",
      "Epoch [10/15] Train Loss: 0.2775, Train Acc: 89.54% | Val Loss: 0.3526, Val Acc: 87.02%\n",
      "Epoch [11/15] Train Loss: 0.2734, Train Acc: 89.71% | Val Loss: 0.3516, Val Acc: 87.10%\n",
      "Epoch [12/15] Train Loss: 0.2703, Train Acc: 89.82% | Val Loss: 0.3518, Val Acc: 87.07%\n",
      "Epoch [13/15] Train Loss: 0.2682, Train Acc: 89.91% | Val Loss: 0.3516, Val Acc: 87.07%\n",
      "Epoch [14/15] Train Loss: 0.2667, Train Acc: 89.96% | Val Loss: 0.3513, Val Acc: 87.10%\n",
      "Epoch [15/15] Train Loss: 0.2659, Train Acc: 90.00% | Val Loss: 0.3514, Val Acc: 87.09%\n",
      "\n",
      "Training completed in 122.41 minutes\n",
      "Best validation accuracy: 87.10%\n"
     ]
    }
   ],
   "source": [
    "# Training Regime 2: Partial Unfreeze (Layer4 + FC)\n",
    "print(f\"\\n{'='*70}\")\n",
    "print(\"REGIME 2: PARTIAL UNFREEZE (LAYER4 + FC)\")\n",
    "print(f\"{'='*70}\")\n",
    "\n",
    "# Load best model from Regime 1\n",
    "model.load_state_dict(torch.load('linear_probe_best_model.pth'))\n",
    "unfreeze_last_block(model)\n",
    "\n",
    "criterion = nn.CrossEntropyLoss()\n",
    "optimizer = optim.SGD(model.parameters(), lr=0.001, momentum=0.9, weight_decay=5e-4)  # Lower LR\n",
    "scheduler = optim.lr_scheduler.CosineAnnealingLR(optimizer, T_max=15)\n",
    "\n",
    "trainable_params_regime2 = count_trainable_params_millions(model)\n",
    "\n",
    "history_regime2, time_regime2 = train_regime(\n",
    "    model, \n",
    "    train_loader, \n",
    "    val_loader, \n",
    "    criterion, \n",
    "    optimizer, \n",
    "    scheduler,\n",
    "    num_epochs=15, \n",
    "    device=device, \n",
    "    regime_name=\"partial_unfreeze\",\n",
    "    use_amp=torch.cuda.is_available()  # Enable AMP if CUDA available\n",
    ")"
   ]
  },
  {
   "cell_type": "code",
   "execution_count": 16,
   "id": "b120fb60",
   "metadata": {},
   "outputs": [
    {
     "name": "stdout",
     "output_type": "stream",
     "text": [
      "\n",
      "======================================================================\n",
      "EVALUATING ON TEST SET\n",
      "======================================================================\n",
      "Test Accuracy: 87.16%\n",
      "Test Precision (macro): 0.7982\n",
      "Test Recall (macro): 0.7479\n",
      "Test F1-Score (macro): 0.7534\n"
     ]
    }
   ],
   "source": [
    "# Evaluate on Test Set\n",
    "model.load_state_dict(torch.load('partial_unfreeze_best_model.pth'))\n",
    "\n",
    "print(f\"\\n{'='*70}\")\n",
    "print(\"EVALUATING ON TEST SET\")\n",
    "print(f\"{'='*70}\")\n",
    "\n",
    "test_metrics = evaluate_full_metrics(model, test_loader, device)\n",
    "print(f\"Test Accuracy: {test_metrics['accuracy']*100:.2f}%\")\n",
    "print(f\"Test Precision (macro): {test_metrics['precision']:.4f}\")\n",
    "print(f\"Test Recall (macro): {test_metrics['recall']:.4f}\")\n",
    "print(f\"Test F1-Score (macro): {test_metrics['f1']:.4f}\")"
   ]
  },
  {
   "cell_type": "code",
   "execution_count": 17,
   "id": "2543be99",
   "metadata": {},
   "outputs": [
    {
     "data": {
      "image/png": "[encoded data removed]",
      "text/plain": [
       "<Figure size 1500x500 with 2 Axes>"
      ]
     },
     "metadata": {},
     "output_type": "display_data"
    }
   ],
   "source": [
    "def plot_training_curves(history1, history2, regime1_name, regime2_name):\n",
    "    fig, axes = plt.subplots(1, 2, figsize=(15, 5))\n",
    "    \n",
    "    # Loss plot\n",
    "    axes[0].plot(history1['train_loss'], label=f'{regime1_name} Train')\n",
    "    axes[0].plot(history1['val_loss'], label=f'{regime1_name} Val')\n",
    "    axes[0].plot(range(len(history1['train_loss']), \n",
    "                      len(history1['train_loss']) + len(history2['train_loss'])),\n",
    "                history2['train_loss'], label=f'{regime2_name} Train')\n",
    "    axes[0].plot(range(len(history1['val_loss']), \n",
    "                      len(history1['val_loss']) + len(history2['val_loss'])),\n",
    "                history2['val_loss'], label=f'{regime2_name} Val')\n",
    "    axes[0].set_xlabel('Epoch')\n",
    "    axes[0].set_ylabel('Loss')\n",
    "    axes[0].set_title('Training and Validation Loss')\n",
    "    axes[0].legend()\n",
    "    axes[0].grid(True)\n",
    "    \n",
    "    # Accuracy plot\n",
    "    axes[1].plot(history1['train_acc'], label=f'{regime1_name} Train')\n",
    "    axes[1].plot(history1['val_acc'], label=f'{regime1_name} Val')\n",
    "    axes[1].plot(range(len(history1['train_acc']), \n",
    "                      len(history1['train_acc']) + len(history2['train_acc'])),\n",
    "                history2['train_acc'], label=f'{regime2_name} Train')\n",
    "    axes[1].plot(range(len(history1['val_acc']), \n",
    "                      len(history1['val_acc']) + len(history2['val_acc'])),\n",
    "                history2['val_acc'], label=f'{regime2_name} Val')\n",
    "    axes[1].set_xlabel('Epoch')\n",
    "    axes[1].set_ylabel('Accuracy (%)')\n",
    "    axes[1].set_title('Training and Validation Accuracy')\n",
    "    axes[1].legend()\n",
    "    axes[1].grid(True)\n",
    "    \n",
    "    plt.tight_layout()\n",
    "    plt.savefig('training_curves.png', dpi=300, bbox_inches='tight')\n",
    "    plt.show()\n",
    "\n",
    "plot_training_curves(history_regime1, history_regime2, \n",
    "                    \"Linear Probe\", \"Partial Unfreeze\")"
   ]
  },
  {
   "cell_type": "code",
   "execution_count": 18,
   "id": "8bd1cf2f",
   "metadata": {},
   "outputs": [
    {
     "data": {
      "image/png": "[encoded data removed]",
      "text/plain": [
       "<Figure size 1200x1000 with 2 Axes>"
      ]
     },
     "metadata": {},
     "output_type": "display_data"
    }
   ],
   "source": [
    "def plot_confusion_matrix(conf_matrix, num_classes=62):\n",
    "    plt.figure(figsize=(12, 10))\n",
    "    plt.imshow(conf_matrix, cmap='Blues', interpolation='nearest')\n",
    "    plt.colorbar()\n",
    "    plt.title('Confusion Matrix (EMNIST ByClass - 62 classes)')\n",
    "    plt.xlabel('Predicted Label')\n",
    "    plt.ylabel('True Label')\n",
    "    plt.tight_layout()\n",
    "    plt.savefig('confusion_matrix.png', dpi=300, bbox_inches='tight')\n",
    "    plt.show()\n",
    "\n",
    "plot_confusion_matrix(test_metrics['confusion_matrix'])"
   ]
  },
  {
   "cell_type": "code",
   "execution_count": 19,
   "id": "74560cb1",
   "metadata": {},
   "outputs": [
    {
     "name": "stdout",
     "output_type": "stream",
     "text": [
      "\n",
      "======================================================================\n",
      "EFFICIENCY ACCOUNTING\n",
      "======================================================================\n",
      "\n",
      "Regime               Test Acc     Params (M)   Epochs×Samples  Hardware        Time (min)  \n",
      "----------------------------------------------------------------------------------------------------\n",
      "Linear Probe              87.16%       0.03M 10×628138   cuda                 76.47\n",
      "Partial Unfreeze          87.16%       8.43M 15×628138   cuda                122.41\n",
      "\n",
      "Total training time: 198.88 minutes\n"
     ]
    }
   ],
   "source": [
    "print(f\"\\n{'='*70}\")\n",
    "print(\"EFFICIENCY ACCOUNTING\")\n",
    "print(f\"{'='*70}\")\n",
    "\n",
    "total_train_samples = len(train_dataset)\n",
    "\n",
    "print(f\"\\n{'Regime':<20} {'Test Acc':<12} {'Params (M)':<12} {'Epochs×Samples':<15} {'Hardware':<15} {'Time (min)':<12}\")\n",
    "print(\"-\" * 100)\n",
    "\n",
    "# Regime 1\n",
    "epochs_regime1 = 10\n",
    "samples_regime1 = epochs_regime1 * total_train_samples\n",
    "print(f\"{'Linear Probe':<20} {test_metrics['accuracy']*100:>10.2f}% {trainable_params_regime1:>10.2f}M \"\n",
    "      f\"{epochs_regime1}×{total_train_samples:<8} {str(device):<15} {time_regime1/60:>10.2f}\")\n",
    "\n",
    "# Regime 2  \n",
    "epochs_regime2 = 15\n",
    "samples_regime2 = epochs_regime2 * total_train_samples\n",
    "total_time = time_regime1 + time_regime2\n",
    "print(f\"{'Partial Unfreeze':<20} {test_metrics['accuracy']*100:>10.2f}% {trainable_params_regime2:>10.2f}M \"\n",
    "      f\"{epochs_regime2}×{total_train_samples:<8} {str(device):<15} {time_regime2/60:>10.2f}\")\n",
    "\n",
    "print(f\"\\nTotal training time: {total_time/60:.2f} minutes\")"
   ]
  },
  {
   "cell_type": "code",
   "execution_count": 20,
   "id": "1395a05d",
   "metadata": {},
   "outputs": [
    {
     "name": "stdout",
     "output_type": "stream",
     "text": [
      "\n",
      "Results saved to results_summary.txt\n",
      "Figures saved: training_curves.png, confusion_matrix.png\n"
     ]
    }
   ],
   "source": [
    "# Save all metrics to a file for the report\n",
    "with open('results_summary.txt', 'w') as f:\n",
    "    f.write(\"TASK 2: ResNet-18 EMNIST Fine-Tuning Results\\n\")\n",
    "    f.write(\"=\"*70 + \"\\n\\n\")\n",
    "    \n",
    "    f.write(f\"Test Accuracy: {test_metrics['accuracy']*100:.2f}%\\n\")\n",
    "    f.write(f\"Test Precision (macro): {test_metrics['precision']:.4f}\\n\")\n",
    "    f.write(f\"Test Recall (macro): {test_metrics['recall']:.4f}\\n\")\n",
    "    f.write(f\"Test F1-score (macro): {test_metrics['f1']:.4f}\\n\\n\")\n",
    "    \n",
    "    f.write(\"Efficiency Accounting:\\n\")\n",
    "    f.write(f\"Regime 1 (Linear Probe): {trainable_params_regime1:.2f}M params, \"\n",
    "            f\"{time_regime1/60:.2f} min\\n\")\n",
    "    f.write(f\"Regime 2 (Partial Unfreeze): {trainable_params_regime2:.2f}M params, \"\n",
    "            f\"{time_regime2/60:.2f} min\\n\")\n",
    "    f.write(f\"Total time: {total_time/60:.2f} minutes\\n\")\n",
    "    f.write(f\"Device: {device}\\n\")\n",
    "\n",
    "print(\"\\nResults saved to results_summary.txt\")\n",
    "print(\"Figures saved: training_curves.png, confusion_matrix.png\")"
   ]
  }
 ],
 "metadata": {
  "kernelspec": {
   "display_name": "ml_env",
   "language": "python",
   "name": "python3"
  },
  "language_info": {
   "codemirror_mode": {
    "name": "ipython",
    "version": 3
   },
   "file_extension": ".py",
   "mimetype": "text/x-python",
   "name": "python",
   "nbconvert_exporter": "python",
   "pygments_lexer": "ipython3",
   "version": "3.10.18"
  }
 },
 "nbformat": 4,
 "nbformat_minor": 5
}
